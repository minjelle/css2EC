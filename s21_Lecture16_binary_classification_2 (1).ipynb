{
  "nbformat": 4,
  "nbformat_minor": 0,
  "metadata": {
    "colab": {
      "name": "s21_Lecture16_binary_classification_2.ipynb",
      "provenance": [],
      "collapsed_sections": []
    },
    "kernelspec": {
      "name": "python3",
      "display_name": "Python 3"
    }
  },
  "cells": [
    {
      "cell_type": "markdown",
      "metadata": {
        "id": "yCwWd6KP6b5H"
      },
      "source": [
        "Lecture 16 - Binary Classification 2\n",
        "\n",
        "Announcements\n",
        "1. Problem set 8 and quiz 8 due this weekend!\n",
        "\n",
        "Binary classification\n",
        "\n",
        "1. Decision Trees\n",
        "2. Logistic Regression\n",
        "3. Other classification algorithms\n"
      ]
    },
    {
      "cell_type": "code",
      "metadata": {
        "id": "hGHygecz-c28"
      },
      "source": [
        "import seaborn as sns\n",
        "import matplotlib.pyplot as plt\n",
        "import numpy as np\n",
        "import pandas as pd\n",
        "from sklearn import tree\n",
        "from sklearn.model_selection import train_test_split\n",
        "from sklearn.linear_model import LogisticRegression\n",
        "from sklearn import metrics"
      ],
      "execution_count": null,
      "outputs": []
    },
    {
      "cell_type": "markdown",
      "metadata": {
        "id": "yYCyUtReWHKj"
      },
      "source": [
        "We will load a different dataset. Here is the description: \n",
        "\n",
        "A retrospective sample of males in a heart-disease high-risk region of the Western Cape, South Africa.\n",
        "There are roughly two controls per case of coronary heart disease. Many of the coronary heart disease\n",
        "positive men have undergone blood pressure reduction treatment and other programs to reduce their risk\n",
        "factors after their coronary heart disease event. In some cases the measurements were made after these\n",
        "treatments. These data are taken from a larger dataset, described in Rousseauw et al, 1983, South African\n",
        "Medical Journal.\n",
        "\n",
        "http://www2.stat.duke.edu/~cr173/Sta102_Sp14/Project/heart.pdf"
      ]
    },
    {
      "cell_type": "code",
      "metadata": {
        "id": "ozhFAR5S5RVa"
      },
      "source": [
        "data = pd.read_csv('https://web.stanford.edu/~hastie/ElemStatLearn/datasets/SAheart.data',index_col=0)"
      ],
      "execution_count": null,
      "outputs": []
    },
    {
      "cell_type": "code",
      "metadata": {
        "id": "07qiuhYG5Xdo",
        "colab": {
          "base_uri": "https://localhost:8080/",
          "height": 235
        },
        "outputId": "81bbbea5-0538-4080-a6b3-3b77ca9b3119"
      },
      "source": [
        "data.head()"
      ],
      "execution_count": null,
      "outputs": [
        {
          "output_type": "execute_result",
          "data": {
            "text/html": [
              "<div>\n",
              "<style scoped>\n",
              "    .dataframe tbody tr th:only-of-type {\n",
              "        vertical-align: middle;\n",
              "    }\n",
              "\n",
              "    .dataframe tbody tr th {\n",
              "        vertical-align: top;\n",
              "    }\n",
              "\n",
              "    .dataframe thead th {\n",
              "        text-align: right;\n",
              "    }\n",
              "</style>\n",
              "<table border=\"1\" class=\"dataframe\">\n",
              "  <thead>\n",
              "    <tr style=\"text-align: right;\">\n",
              "      <th></th>\n",
              "      <th>sbp</th>\n",
              "      <th>tobacco</th>\n",
              "      <th>ldl</th>\n",
              "      <th>adiposity</th>\n",
              "      <th>famhist</th>\n",
              "      <th>typea</th>\n",
              "      <th>obesity</th>\n",
              "      <th>alcohol</th>\n",
              "      <th>age</th>\n",
              "      <th>chd</th>\n",
              "    </tr>\n",
              "    <tr>\n",
              "      <th>row.names</th>\n",
              "      <th></th>\n",
              "      <th></th>\n",
              "      <th></th>\n",
              "      <th></th>\n",
              "      <th></th>\n",
              "      <th></th>\n",
              "      <th></th>\n",
              "      <th></th>\n",
              "      <th></th>\n",
              "      <th></th>\n",
              "    </tr>\n",
              "  </thead>\n",
              "  <tbody>\n",
              "    <tr>\n",
              "      <th>1</th>\n",
              "      <td>160</td>\n",
              "      <td>12.00</td>\n",
              "      <td>5.73</td>\n",
              "      <td>23.11</td>\n",
              "      <td>Present</td>\n",
              "      <td>49</td>\n",
              "      <td>25.30</td>\n",
              "      <td>97.20</td>\n",
              "      <td>52</td>\n",
              "      <td>1</td>\n",
              "    </tr>\n",
              "    <tr>\n",
              "      <th>2</th>\n",
              "      <td>144</td>\n",
              "      <td>0.01</td>\n",
              "      <td>4.41</td>\n",
              "      <td>28.61</td>\n",
              "      <td>Absent</td>\n",
              "      <td>55</td>\n",
              "      <td>28.87</td>\n",
              "      <td>2.06</td>\n",
              "      <td>63</td>\n",
              "      <td>1</td>\n",
              "    </tr>\n",
              "    <tr>\n",
              "      <th>3</th>\n",
              "      <td>118</td>\n",
              "      <td>0.08</td>\n",
              "      <td>3.48</td>\n",
              "      <td>32.28</td>\n",
              "      <td>Present</td>\n",
              "      <td>52</td>\n",
              "      <td>29.14</td>\n",
              "      <td>3.81</td>\n",
              "      <td>46</td>\n",
              "      <td>0</td>\n",
              "    </tr>\n",
              "    <tr>\n",
              "      <th>4</th>\n",
              "      <td>170</td>\n",
              "      <td>7.50</td>\n",
              "      <td>6.41</td>\n",
              "      <td>38.03</td>\n",
              "      <td>Present</td>\n",
              "      <td>51</td>\n",
              "      <td>31.99</td>\n",
              "      <td>24.26</td>\n",
              "      <td>58</td>\n",
              "      <td>1</td>\n",
              "    </tr>\n",
              "    <tr>\n",
              "      <th>5</th>\n",
              "      <td>134</td>\n",
              "      <td>13.60</td>\n",
              "      <td>3.50</td>\n",
              "      <td>27.78</td>\n",
              "      <td>Present</td>\n",
              "      <td>60</td>\n",
              "      <td>25.99</td>\n",
              "      <td>57.34</td>\n",
              "      <td>49</td>\n",
              "      <td>1</td>\n",
              "    </tr>\n",
              "  </tbody>\n",
              "</table>\n",
              "</div>"
            ],
            "text/plain": [
              "           sbp  tobacco   ldl  adiposity  ... obesity  alcohol  age  chd\n",
              "row.names                                 ...                           \n",
              "1          160    12.00  5.73      23.11  ...   25.30    97.20   52    1\n",
              "2          144     0.01  4.41      28.61  ...   28.87     2.06   63    1\n",
              "3          118     0.08  3.48      32.28  ...   29.14     3.81   46    0\n",
              "4          170     7.50  6.41      38.03  ...   31.99    24.26   58    1\n",
              "5          134    13.60  3.50      27.78  ...   25.99    57.34   49    1\n",
              "\n",
              "[5 rows x 10 columns]"
            ]
          },
          "metadata": {
            "tags": []
          },
          "execution_count": 3
        }
      ]
    },
    {
      "cell_type": "markdown",
      "metadata": {
        "id": "11DTh3eizeFm"
      },
      "source": [
        "Just like in the last class, let's focus on binary classification with just a single feature\n",
        "\n",
        "More complicated combinations of the features and/or changes to the algorithms will provide better fits to the data, but it is easier to understand the models by first using just a single feature"
      ]
    },
    {
      "cell_type": "code",
      "metadata": {
        "id": "chFsKg3hc9X-",
        "colab": {
          "base_uri": "https://localhost:8080/",
          "height": 336
        },
        "outputId": "42b66068-f8c3-4832-e294-5de97145fd6c"
      },
      "source": [
        "X = np.array(data[data.columns[8]]) # age\n",
        "y = np.array(data[data.columns[-1]]) # heart disease\n",
        "\n",
        "sns.boxplot(y,X)"
      ],
      "execution_count": null,
      "outputs": [
        {
          "output_type": "stream",
          "text": [
            "/usr/local/lib/python3.7/dist-packages/seaborn/_decorators.py:43: FutureWarning: Pass the following variables as keyword args: x, y. From version 0.12, the only valid positional argument will be `data`, and passing other arguments without an explicit keyword will result in an error or misinterpretation.\n",
            "  FutureWarning\n"
          ],
          "name": "stderr"
        },
        {
          "output_type": "execute_result",
          "data": {
            "text/plain": [
              "<matplotlib.axes._subplots.AxesSubplot at 0x7feb98a86310>"
            ]
          },
          "metadata": {
            "tags": []
          },
          "execution_count": 5
        },
        {
          "output_type": "display_data",
          "data": {
            "image/png": "[encoded data removed]",
            "text/plain": [
              "<Figure size 432x288 with 1 Axes>"
            ]
          },
          "metadata": {
            "tags": [],
            "needs_background": "light"
          }
        }
      ]
    },
    {
      "cell_type": "code",
      "metadata": {
        "id": "bor1YXEh-5wW"
      },
      "source": [
        "Xtrain,Xtest,ytrain,ytest = train_test_split(X.reshape(len(X),1),y,random_state=1)"
      ],
      "execution_count": null,
      "outputs": []
    },
    {
      "cell_type": "markdown",
      "metadata": {
        "id": "KtehM8bS_5CV"
      },
      "source": [
        "Then, let's do our decision tree classification!\n",
        "\n",
        "For the moment, let's set the max depth of the tree to be 1\n",
        "\n",
        "This parameter determines how many layers we go. At a max depth of 1, we will just be splitting the data once. If the max depth was 2, we could at most, split the data twice, etc etc\n",
        "\n",
        "Note that how we fit the model is very similar to what we did for linear regression!"
      ]
    },
    {
      "cell_type": "code",
      "metadata": {
        "id": "czVOuBkD-m2t"
      },
      "source": [
        "tree_model = tree.DecisionTreeClassifier(max_depth=1) \n",
        "tree_model = tree_model.fit(Xtrain, ytrain)"
      ],
      "execution_count": null,
      "outputs": []
    },
    {
      "cell_type": "markdown",
      "metadata": {
        "id": "FXT1bc4vAJYF"
      },
      "source": [
        "Done!\n",
        "\n",
        "Now, let's check the model score, which is the mean accuracy"
      ]
    },
    {
      "cell_type": "code",
      "metadata": {
        "id": "T9Y_8jxW_Lee",
        "colab": {
          "base_uri": "https://localhost:8080/"
        },
        "outputId": "daf04d68-23a1-4862-b37f-fddbfd84f404"
      },
      "source": [
        "tree_model.score(Xtrain, ytrain)"
      ],
      "execution_count": null,
      "outputs": [
        {
          "output_type": "execute_result",
          "data": {
            "text/plain": [
              "0.7023121387283237"
            ]
          },
          "metadata": {
            "tags": []
          },
          "execution_count": 8
        }
      ]
    },
    {
      "cell_type": "code",
      "metadata": {
        "id": "V9gsOTz1_UPQ",
        "colab": {
          "base_uri": "https://localhost:8080/"
        },
        "outputId": "15a7a575-3cfe-43b1-ff10-031d115b51b8"
      },
      "source": [
        "tree_model.score(Xtest, ytest)"
      ],
      "execution_count": null,
      "outputs": [
        {
          "output_type": "execute_result",
          "data": {
            "text/plain": [
              "0.6810344827586207"
            ]
          },
          "metadata": {
            "tags": []
          },
          "execution_count": 9
        }
      ]
    },
    {
      "cell_type": "markdown",
      "metadata": {
        "id": "JvWSNNhQAZZ6"
      },
      "source": [
        "\n",
        "\n",
        "We can get our confusion matrix by comparing the ytest to the predicted values from the model\n",
        "\n",
        "This is very similar to how we did linear regression!"
      ]
    },
    {
      "cell_type": "code",
      "metadata": {
        "id": "iACuEXHFA0-L",
        "colab": {
          "base_uri": "https://localhost:8080/"
        },
        "outputId": "7933ab4f-2e71-426c-9a53-75aef480e3df"
      },
      "source": [
        "tree_model.predict(Xtest)"
      ],
      "execution_count": null,
      "outputs": [
        {
          "output_type": "execute_result",
          "data": {
            "text/plain": [
              "array([0, 0, 0, 0, 1, 0, 0, 1, 0, 1, 1, 0, 0, 1, 0, 0, 0, 1, 0, 0, 0, 0,\n",
              "       0, 0, 0, 1, 0, 0, 1, 1, 1, 0, 0, 0, 0, 1, 0, 1, 0, 1, 0, 0, 0, 1,\n",
              "       0, 0, 1, 0, 1, 0, 0, 1, 1, 1, 1, 0, 0, 0, 1, 1, 0, 0, 1, 0, 1, 1,\n",
              "       0, 0, 0, 0, 0, 0, 0, 0, 0, 0, 0, 1, 0, 0, 1, 1, 0, 1, 1, 0, 1, 1,\n",
              "       0, 1, 0, 0, 1, 0, 1, 0, 0, 0, 0, 0, 0, 1, 1, 0, 1, 1, 0, 0, 1, 1,\n",
              "       0, 1, 0, 0, 0, 1])"
            ]
          },
          "metadata": {
            "tags": []
          },
          "execution_count": 10
        }
      ]
    },
    {
      "cell_type": "markdown",
      "metadata": {
        "id": "Nz7xY1o1BpnW"
      },
      "source": [
        "We can check out the confusion matrix with metrics"
      ]
    },
    {
      "cell_type": "code",
      "metadata": {
        "id": "QmtqbbxwAl39",
        "colab": {
          "base_uri": "https://localhost:8080/"
        },
        "outputId": "d047974e-2439-4ee6-dbc7-8de5ae46d4b8"
      },
      "source": [
        "metrics.confusion_matrix(ytest,tree_model.predict(Xtest)) "
      ],
      "execution_count": null,
      "outputs": [
        {
          "output_type": "execute_result",
          "data": {
            "text/plain": [
              "array([[56, 20],\n",
              "       [17, 23]])"
            ]
          },
          "metadata": {
            "tags": []
          },
          "execution_count": 11
        }
      ]
    },
    {
      "cell_type": "markdown",
      "metadata": {
        "id": "wAVbiRPNBsWU"
      },
      "source": [
        "This is also a handy way to save the confusion matrix values\n",
        "\n",
        "Which you could then use to compute the F1 score or Matthews Correlation Coefficient"
      ]
    },
    {
      "cell_type": "code",
      "metadata": {
        "id": "8sGsHS7FBBGC",
        "colab": {
          "base_uri": "https://localhost:8080/"
        },
        "outputId": "3b568053-70d7-408c-91c7-d13e7ef83764"
      },
      "source": [
        "tn, fp, fn, tp = metrics.confusion_matrix(ytest,tree_model.predict(Xtest)).ravel()\n",
        "print(tn, fp, fn, tp)"
      ],
      "execution_count": null,
      "outputs": [
        {
          "output_type": "stream",
          "text": [
            "56 20 17 23\n"
          ],
          "name": "stdout"
        }
      ]
    },
    {
      "cell_type": "markdown",
      "metadata": {
        "id": "YgRM_FeKDNHi"
      },
      "source": [
        "We can visualize the decision tree model and see the brances, nodes, and leaves"
      ]
    },
    {
      "cell_type": "code",
      "metadata": {
        "id": "C_hA4c3S-Paw",
        "colab": {
          "base_uri": "https://localhost:8080/",
          "height": 299
        },
        "outputId": "d2766c06-ce38-4eb0-baa4-0263fd8d16f5"
      },
      "source": [
        "tree.plot_tree(tree_model)"
      ],
      "execution_count": null,
      "outputs": [
        {
          "output_type": "execute_result",
          "data": {
            "text/plain": [
              "[Text(167.4, 163.07999999999998, 'X[0] <= 50.5\\ngini = 0.453\\nsamples = 346\\nvalue = [226, 120]'),\n",
              " Text(83.7, 54.360000000000014, 'gini = 0.339\\nsamples = 217\\nvalue = [170, 47]'),\n",
              " Text(251.10000000000002, 54.360000000000014, 'gini = 0.491\\nsamples = 129\\nvalue = [56, 73]')]"
            ]
          },
          "metadata": {
            "tags": []
          },
          "execution_count": 13
        },
        {
          "output_type": "display_data",
          "data": {
            "image/png": "[encoded data removed]",
            "text/plain": [
              "<Figure size 432x288 with 1 Axes>"
            ]
          },
          "metadata": {
            "tags": [],
            "needs_background": "light"
          }
        }
      ]
    },
    {
      "cell_type": "markdown",
      "metadata": {
        "id": "_wN6z-U-DU7q"
      },
      "source": [
        "X[0] <= 50.5 refers to the criterion that the decision tree is using to decide whether the data belong in the category on the left (0) or the right (1)\n",
        "\n",
        "gini is the method if finding the above criterion, which is referred to a gini impurity. There are some other metrics, which you can see here: https://medium.com/@rishabhjain_22692/decision-trees-it-begins-here-93ff54ef134\n",
        "\n",
        "samples = number of samples in that group\n",
        "value = left value is 0 and right value is 1\n",
        "\n",
        "So, based on the bottom values, what does 56 mean? - should be the false positives!\n"
      ]
    },
    {
      "cell_type": "code",
      "metadata": {
        "id": "JITiKI1PLvBA",
        "colab": {
          "base_uri": "https://localhost:8080/"
        },
        "outputId": "11609f3e-b410-4c47-ef02-63c9e28850d1"
      },
      "source": [
        "tn, fp, fn, tp = metrics.confusion_matrix(ytrain,tree_model.predict(Xtrain)).ravel()\n",
        "print(tn, fp, fn, tp)"
      ],
      "execution_count": null,
      "outputs": [
        {
          "output_type": "stream",
          "text": [
            "170 56 47 73\n"
          ],
          "name": "stdout"
        }
      ]
    },
    {
      "cell_type": "markdown",
      "metadata": {
        "id": "cpit_VQT0jYc"
      },
      "source": [
        "But of course, the tree that we are seeing is from the training set, so just keep that in mind when trying to interpret this visualization"
      ]
    },
    {
      "cell_type": "markdown",
      "metadata": {
        "id": "zBh_AIGXOItN"
      },
      "source": [
        "Let's try building a model without specifing the number of branches"
      ]
    },
    {
      "cell_type": "code",
      "metadata": {
        "id": "YlBtl5NNPnNl",
        "colab": {
          "base_uri": "https://localhost:8080/"
        },
        "outputId": "c909ddfd-c8c7-451b-dbf0-018594eb6d6a"
      },
      "source": [
        "full_tree_model = tree.DecisionTreeClassifier()\n",
        "full_tree_model = full_tree_model.fit(Xtrain, ytrain)\n",
        "print(full_tree_model.score(Xtrain, ytrain))\n",
        "print(full_tree_model.score(Xtest, ytest))"
      ],
      "execution_count": null,
      "outputs": [
        {
          "output_type": "stream",
          "text": [
            "0.7456647398843931\n",
            "0.646551724137931\n"
          ],
          "name": "stdout"
        }
      ]
    },
    {
      "cell_type": "markdown",
      "metadata": {
        "id": "mJfjYXKwEHHi"
      },
      "source": [
        "Hmm, the accuracy of the testing set didn't actually improve, though the accuracy of the training set did. We are probably overfitting"
      ]
    },
    {
      "cell_type": "code",
      "metadata": {
        "id": "VzT8fN9CP5dh",
        "colab": {
          "base_uri": "https://localhost:8080/",
          "height": 1000
        },
        "outputId": "58df5f3c-032f-4f56-979f-fe7cd6353203"
      },
      "source": [
        "plt.figure(figsize=[20,20])\n",
        "tree.plot_tree(full_tree_model)"
      ],
      "execution_count": null,
      "outputs": [
        {
          "output_type": "execute_result",
          "data": {
            "text/plain": [
              "[Text(574.679347826087, 1045.3846153846155, 'X[0] <= 50.5\\ngini = 0.453\\nsamples = 346\\nvalue = [226, 120]'),\n",
              " Text(175.8913043478261, 961.7538461538462, 'X[0] <= 24.5\\ngini = 0.339\\nsamples = 217\\nvalue = [170, 47]'),\n",
              " Text(48.52173913043478, 878.123076923077, 'X[0] <= 19.5\\ngini = 0.038\\nsamples = 51\\nvalue = [50, 1]'),\n",
              " Text(24.26086956521739, 794.4923076923078, 'gini = 0.0\\nsamples = 38\\nvalue = [38, 0]'),\n",
              " Text(72.78260869565217, 794.4923076923078, 'X[0] <= 20.5\\ngini = 0.142\\nsamples = 13\\nvalue = [12, 1]'),\n",
              " Text(48.52173913043478, 710.8615384615384, 'gini = 0.278\\nsamples = 6\\nvalue = [5, 1]'),\n",
              " Text(97.04347826086956, 710.8615384615384, 'gini = 0.0\\nsamples = 7\\nvalue = [7, 0]'),\n",
              " Text(303.2608695652174, 878.123076923077, 'X[0] <= 31.5\\ngini = 0.401\\nsamples = 166\\nvalue = [120, 46]'),\n",
              " Text(194.08695652173913, 794.4923076923078, 'X[0] <= 28.5\\ngini = 0.305\\nsamples = 32\\nvalue = [26, 6]'),\n",
              " Text(145.56521739130434, 710.8615384615384, 'X[0] <= 25.5\\ngini = 0.415\\nsamples = 17\\nvalue = [12, 5]'),\n",
              " Text(121.30434782608695, 627.2307692307693, 'gini = 0.5\\nsamples = 2\\nvalue = [1, 1]'),\n",
              " Text(169.82608695652175, 627.2307692307693, 'X[0] <= 27.5\\ngini = 0.391\\nsamples = 15\\nvalue = [11, 4]'),\n",
              " Text(145.56521739130434, 543.6, 'X[0] <= 26.5\\ngini = 0.375\\nsamples = 8\\nvalue = [6, 2]'),\n",
              " Text(121.30434782608695, 459.96923076923076, 'gini = 0.375\\nsamples = 4\\nvalue = [3, 1]'),\n",
              " Text(169.82608695652175, 459.96923076923076, 'gini = 0.375\\nsamples = 4\\nvalue = [3, 1]'),\n",
              " Text(194.08695652173913, 543.6, 'gini = 0.408\\nsamples = 7\\nvalue = [5, 2]'),\n",
              " Text(242.6086956521739, 710.8615384615384, 'X[0] <= 30.5\\ngini = 0.124\\nsamples = 15\\nvalue = [14, 1]'),\n",
              " Text(218.3478260869565, 627.2307692307693, 'gini = 0.0\\nsamples = 8\\nvalue = [8, 0]'),\n",
              " Text(266.8695652173913, 627.2307692307693, 'gini = 0.245\\nsamples = 7\\nvalue = [6, 1]'),\n",
              " Text(412.4347826086956, 794.4923076923078, 'X[0] <= 32.5\\ngini = 0.419\\nsamples = 134\\nvalue = [94, 40]'),\n",
              " Text(388.17391304347825, 710.8615384615384, 'gini = 0.494\\nsamples = 9\\nvalue = [5, 4]'),\n",
              " Text(436.695652173913, 710.8615384615384, 'X[0] <= 38.5\\ngini = 0.41\\nsamples = 125\\nvalue = [89, 36]'),\n",
              " Text(315.39130434782606, 627.2307692307693, 'X[0] <= 35.5\\ngini = 0.342\\nsamples = 32\\nvalue = [25, 7]'),\n",
              " Text(266.8695652173913, 543.6, 'X[0] <= 34.5\\ngini = 0.298\\nsamples = 11\\nvalue = [9, 2]'),\n",
              " Text(242.6086956521739, 459.96923076923076, 'X[0] <= 33.5\\ngini = 0.32\\nsamples = 10\\nvalue = [8, 2]'),\n",
              " Text(218.3478260869565, 376.3384615384616, 'gini = 0.278\\nsamples = 6\\nvalue = [5, 1]'),\n",
              " Text(266.8695652173913, 376.3384615384616, 'gini = 0.375\\nsamples = 4\\nvalue = [3, 1]'),\n",
              " Text(291.1304347826087, 459.96923076923076, 'gini = 0.0\\nsamples = 1\\nvalue = [1, 0]'),\n",
              " Text(363.9130434782609, 543.6, 'X[0] <= 36.5\\ngini = 0.363\\nsamples = 21\\nvalue = [16, 5]'),\n",
              " Text(339.6521739130435, 459.96923076923076, 'gini = 0.444\\nsamples = 3\\nvalue = [2, 1]'),\n",
              " Text(388.17391304347825, 459.96923076923076, 'X[0] <= 37.5\\ngini = 0.346\\nsamples = 18\\nvalue = [14, 4]'),\n",
              " Text(363.9130434782609, 376.3384615384616, 'gini = 0.278\\nsamples = 6\\nvalue = [5, 1]'),\n",
              " Text(412.4347826086956, 376.3384615384616, 'gini = 0.375\\nsamples = 12\\nvalue = [9, 3]'),\n",
              " Text(558.0, 627.2307692307693, 'X[0] <= 43.5\\ngini = 0.429\\nsamples = 93\\nvalue = [64, 29]'),\n",
              " Text(509.4782608695652, 543.6, 'X[0] <= 42.5\\ngini = 0.473\\nsamples = 39\\nvalue = [24, 15]'),\n",
              " Text(485.2173913043478, 459.96923076923076, 'X[0] <= 39.5\\ngini = 0.451\\nsamples = 32\\nvalue = [21, 11]'),\n",
              " Text(460.95652173913044, 376.3384615384616, 'gini = 0.49\\nsamples = 7\\nvalue = [4, 3]'),\n",
              " Text(509.4782608695652, 376.3384615384616, 'X[0] <= 40.5\\ngini = 0.435\\nsamples = 25\\nvalue = [17, 8]'),\n",
              " Text(485.2173913043478, 292.70769230769235, 'gini = 0.42\\nsamples = 10\\nvalue = [7, 3]'),\n",
              " Text(533.7391304347826, 292.70769230769235, 'X[0] <= 41.5\\ngini = 0.444\\nsamples = 15\\nvalue = [10, 5]'),\n",
              " Text(509.4782608695652, 209.0769230769231, 'gini = 0.444\\nsamples = 6\\nvalue = [4, 2]'),\n",
              " Text(558.0, 209.0769230769231, 'gini = 0.444\\nsamples = 9\\nvalue = [6, 3]'),\n",
              " Text(533.7391304347826, 459.96923076923076, 'gini = 0.49\\nsamples = 7\\nvalue = [3, 4]'),\n",
              " Text(606.5217391304348, 543.6, 'X[0] <= 44.5\\ngini = 0.384\\nsamples = 54\\nvalue = [40, 14]'),\n",
              " Text(582.2608695652174, 459.96923076923076, 'gini = 0.0\\nsamples = 7\\nvalue = [7, 0]'),\n",
              " Text(630.7826086956521, 459.96923076923076, 'X[0] <= 45.5\\ngini = 0.418\\nsamples = 47\\nvalue = [33, 14]'),\n",
              " Text(606.5217391304348, 376.3384615384616, 'gini = 0.5\\nsamples = 8\\nvalue = [4, 4]'),\n",
              " Text(655.0434782608695, 376.3384615384616, 'X[0] <= 49.5\\ngini = 0.381\\nsamples = 39\\nvalue = [29, 10]'),\n",
              " Text(630.7826086956521, 292.70769230769235, 'X[0] <= 46.5\\ngini = 0.35\\nsamples = 31\\nvalue = [24, 7]'),\n",
              " Text(606.5217391304348, 209.0769230769231, 'gini = 0.444\\nsamples = 6\\nvalue = [4, 2]'),\n",
              " Text(655.0434782608695, 209.0769230769231, 'X[0] <= 47.5\\ngini = 0.32\\nsamples = 25\\nvalue = [20, 5]'),\n",
              " Text(630.7826086956521, 125.44615384615383, 'gini = 0.0\\nsamples = 1\\nvalue = [1, 0]'),\n",
              " Text(679.304347826087, 125.44615384615383, 'X[0] <= 48.5\\ngini = 0.33\\nsamples = 24\\nvalue = [19, 5]'),\n",
              " Text(655.0434782608695, 41.81538461538457, 'gini = 0.355\\nsamples = 13\\nvalue = [10, 3]'),\n",
              " Text(703.5652173913044, 41.81538461538457, 'gini = 0.298\\nsamples = 11\\nvalue = [9, 2]'),\n",
              " Text(679.304347826087, 292.70769230769235, 'gini = 0.469\\nsamples = 8\\nvalue = [5, 3]'),\n",
              " Text(973.4673913043478, 961.7538461538462, 'X[0] <= 59.5\\ngini = 0.491\\nsamples = 129\\nvalue = [56, 73]'),\n",
              " Text(903.7173913043478, 878.123076923077, 'X[0] <= 57.5\\ngini = 0.472\\nsamples = 81\\nvalue = [31, 50]'),\n",
              " Text(837.0, 794.4923076923078, 'X[0] <= 55.5\\ngini = 0.494\\nsamples = 56\\nvalue = [25, 31]'),\n",
              " Text(776.3478260869565, 710.8615384615384, 'X[0] <= 53.5\\ngini = 0.476\\nsamples = 46\\nvalue = [18, 28]'),\n",
              " Text(727.8260869565217, 627.2307692307693, 'X[0] <= 52.5\\ngini = 0.497\\nsamples = 26\\nvalue = [12, 14]'),\n",
              " Text(703.5652173913044, 543.6, 'X[0] <= 51.5\\ngini = 0.48\\nsamples = 15\\nvalue = [6, 9]'),\n",
              " Text(679.304347826087, 459.96923076923076, 'gini = 0.49\\nsamples = 7\\nvalue = [3, 4]'),\n",
              " Text(727.8260869565217, 459.96923076923076, 'gini = 0.469\\nsamples = 8\\nvalue = [3, 5]'),\n",
              " Text(752.0869565217391, 543.6, 'gini = 0.496\\nsamples = 11\\nvalue = [6, 5]'),\n",
              " Text(824.8695652173913, 627.2307692307693, 'X[0] <= 54.5\\ngini = 0.42\\nsamples = 20\\nvalue = [6, 14]'),\n",
              " Text(800.6086956521739, 543.6, 'gini = 0.278\\nsamples = 6\\nvalue = [1, 5]'),\n",
              " Text(849.1304347826086, 543.6, 'gini = 0.459\\nsamples = 14\\nvalue = [5, 9]'),\n",
              " Text(897.6521739130435, 710.8615384615384, 'X[0] <= 56.5\\ngini = 0.42\\nsamples = 10\\nvalue = [7, 3]'),\n",
              " Text(873.391304347826, 627.2307692307693, 'gini = 0.48\\nsamples = 5\\nvalue = [3, 2]'),\n",
              " Text(921.9130434782609, 627.2307692307693, 'gini = 0.32\\nsamples = 5\\nvalue = [4, 1]'),\n",
              " Text(970.4347826086956, 794.4923076923078, 'X[0] <= 58.5\\ngini = 0.365\\nsamples = 25\\nvalue = [6, 19]'),\n",
              " Text(946.1739130434783, 710.8615384615384, 'gini = 0.375\\nsamples = 12\\nvalue = [3, 9]'),\n",
              " Text(994.695652173913, 710.8615384615384, 'gini = 0.355\\nsamples = 13\\nvalue = [3, 10]'),\n",
              " Text(1043.2173913043478, 878.123076923077, 'X[0] <= 60.5\\ngini = 0.499\\nsamples = 48\\nvalue = [25, 23]'),\n",
              " Text(1018.9565217391304, 794.4923076923078, 'gini = 0.375\\nsamples = 12\\nvalue = [9, 3]'),\n",
              " Text(1067.4782608695652, 794.4923076923078, 'X[0] <= 63.5\\ngini = 0.494\\nsamples = 36\\nvalue = [16, 20]'),\n",
              " Text(1043.2173913043478, 710.8615384615384, 'X[0] <= 62.5\\ngini = 0.473\\nsamples = 26\\nvalue = [10, 16]'),\n",
              " Text(1018.9565217391304, 627.2307692307693, 'X[0] <= 61.5\\ngini = 0.49\\nsamples = 21\\nvalue = [9, 12]'),\n",
              " Text(994.695652173913, 543.6, 'gini = 0.444\\nsamples = 12\\nvalue = [4, 8]'),\n",
              " Text(1043.2173913043478, 543.6, 'gini = 0.494\\nsamples = 9\\nvalue = [5, 4]'),\n",
              " Text(1067.4782608695652, 627.2307692307693, 'gini = 0.32\\nsamples = 5\\nvalue = [1, 4]'),\n",
              " Text(1091.7391304347825, 710.8615384615384, 'gini = 0.48\\nsamples = 10\\nvalue = [6, 4]')]"
            ]
          },
          "metadata": {
            "tags": []
          },
          "execution_count": 15
        },
        {
          "output_type": "display_data",
          "data": {
            "image/png": "[encoded data removed]",
            "text/plain": [
              "<Figure size 1440x1440 with 1 Axes>"
            ]
          },
          "metadata": {
            "tags": [],
            "needs_background": "light"
          }
        }
      ]
    },
    {
      "cell_type": "markdown",
      "metadata": {
        "id": "0VHyDGswV-N1"
      },
      "source": [
        "Oh yeah. look at that tree. Its huge! We are probably overfitting quite a bit and we obviously lose the ability to intepret the model.\n",
        "\n"
      ]
    },
    {
      "cell_type": "markdown",
      "metadata": {
        "id": "3Q6qQwrC1Cz1"
      },
      "source": [
        "One thing you can do to improve your decision tree without necessarily running into this problem of overfitting is to run multiple decision trees and basically combining the different trees. This is called a random forest https://en.wikipedia.org/wiki/Random_forest which will be discussed more in CSS100"
      ]
    },
    {
      "cell_type": "markdown",
      "metadata": {
        "id": "NlhLJgwc-6n9"
      },
      "source": [
        "Now, let's look at a logistic regression\n",
        "\n",
        "https://medium.com/@ODSC/logistic-regression-with-python-ede39f8573c7\n",
        "\n",
        "Instead of a straight line, you get an S-shape sigmoid that corresponds to the probability of the X data being in group 1\n",
        "\n",
        "If the linear model is y = mx+b\n",
        "\n",
        "Then the logistic regression model is y = 1/(1+e^-(mx+b))"
      ]
    },
    {
      "cell_type": "markdown",
      "metadata": {
        "id": "fCS4D0WkGCco"
      },
      "source": [
        "And just like with linear regression and with the decision tree, we first create an instance of the model, then we fit the data"
      ]
    },
    {
      "cell_type": "code",
      "metadata": {
        "id": "W3Kz_U5qV4GS"
      },
      "source": [
        "logit_model = LogisticRegression(fit_intercept=True,random_state =1)\n",
        "logit_model = logit_model.fit(Xtrain, ytrain)"
      ],
      "execution_count": null,
      "outputs": []
    },
    {
      "cell_type": "markdown",
      "metadata": {
        "id": "PKEhrxIIKv9m"
      },
      "source": [
        "We can check the possible classes and also the coefficient and intercept values"
      ]
    },
    {
      "cell_type": "code",
      "metadata": {
        "id": "jxGgIqK2KUh7",
        "colab": {
          "base_uri": "https://localhost:8080/"
        },
        "outputId": "e0c91b40-d66e-4091-f8fd-4335a06db7c8"
      },
      "source": [
        "logit_model.classes_"
      ],
      "execution_count": null,
      "outputs": [
        {
          "output_type": "execute_result",
          "data": {
            "text/plain": [
              "array([0, 1])"
            ]
          },
          "metadata": {
            "tags": []
          },
          "execution_count": 17
        }
      ]
    },
    {
      "cell_type": "code",
      "metadata": {
        "id": "_4LTrJ4PKrGq",
        "colab": {
          "base_uri": "https://localhost:8080/"
        },
        "outputId": "440c7801-8163-4f03-c734-a751e9f1a179"
      },
      "source": [
        "logit_model.coef_"
      ],
      "execution_count": null,
      "outputs": [
        {
          "output_type": "execute_result",
          "data": {
            "text/plain": [
              "array([[0.06469053]])"
            ]
          },
          "metadata": {
            "tags": []
          },
          "execution_count": 18
        }
      ]
    },
    {
      "cell_type": "code",
      "metadata": {
        "id": "gBrpyhwcKsef",
        "colab": {
          "base_uri": "https://localhost:8080/"
        },
        "outputId": "783d5531-8392-424c-deeb-e59c8fdec18d"
      },
      "source": [
        "logit_model.intercept_"
      ],
      "execution_count": null,
      "outputs": [
        {
          "output_type": "execute_result",
          "data": {
            "text/plain": [
              "array([-3.55527328])"
            ]
          },
          "metadata": {
            "tags": []
          },
          "execution_count": 19
        }
      ]
    },
    {
      "cell_type": "markdown",
      "metadata": {
        "id": "GiBR5LltGnFq"
      },
      "source": [
        "And just like before, we can check the accuracy"
      ]
    },
    {
      "cell_type": "code",
      "metadata": {
        "id": "iLYMttPyGkMe",
        "colab": {
          "base_uri": "https://localhost:8080/"
        },
        "outputId": "c2c763c2-3087-4242-cc68-0af5a869fe2e"
      },
      "source": [
        "print(logit_model.score(Xtrain, ytrain)) \n",
        "print(logit_model.score(Xtest, ytest))"
      ],
      "execution_count": null,
      "outputs": [
        {
          "output_type": "stream",
          "text": [
            "0.684971098265896\n",
            "0.6637931034482759\n"
          ],
          "name": "stdout"
        }
      ]
    },
    {
      "cell_type": "markdown",
      "metadata": {
        "id": "eoeDEJ0KK6BQ"
      },
      "source": [
        "And just like with the decision tree, the predictions are 1's or 0's\n",
        "\n",
        "These values are based on the probability of y. Anything above .5 is considered to be in group 1, otherwise, group 0"
      ]
    },
    {
      "cell_type": "code",
      "metadata": {
        "id": "pg-dp2YfK3iR",
        "colab": {
          "base_uri": "https://localhost:8080/"
        },
        "outputId": "412b5da5-1a6a-4b22-e34b-d9e50ea7ee49"
      },
      "source": [
        "logit_model.predict(Xtest)"
      ],
      "execution_count": null,
      "outputs": [
        {
          "output_type": "execute_result",
          "data": {
            "text/plain": [
              "array([0, 0, 0, 0, 1, 0, 0, 1, 0, 1, 1, 0, 0, 1, 0, 0, 0, 1, 0, 0, 0, 0,\n",
              "       0, 0, 0, 1, 0, 0, 1, 1, 1, 0, 0, 0, 0, 0, 0, 1, 0, 0, 0, 0, 0, 0,\n",
              "       0, 0, 1, 0, 1, 0, 0, 1, 1, 1, 0, 0, 0, 0, 1, 1, 0, 0, 0, 0, 0, 1,\n",
              "       0, 0, 0, 0, 0, 0, 0, 0, 0, 0, 0, 1, 0, 0, 1, 0, 0, 1, 1, 0, 1, 1,\n",
              "       0, 1, 0, 0, 1, 0, 1, 0, 0, 0, 0, 0, 0, 0, 1, 0, 1, 1, 0, 0, 0, 0,\n",
              "       0, 1, 0, 0, 0, 1])"
            ]
          },
          "metadata": {
            "tags": []
          },
          "execution_count": 21
        }
      ]
    },
    {
      "cell_type": "markdown",
      "metadata": {
        "id": "wiqFx88FLDQT"
      },
      "source": [
        "We can also check the probability of those predictions below\n"
      ]
    },
    {
      "cell_type": "code",
      "metadata": {
        "id": "aQMCQOwjK-v2",
        "colab": {
          "base_uri": "https://localhost:8080/"
        },
        "outputId": "edc2c3ba-ac0f-458b-ac49-1a4c27919e8b"
      },
      "source": [
        "logit_model.predict_proba(Xtest)"
      ],
      "execution_count": null,
      "outputs": [
        {
          "output_type": "execute_result",
          "data": {
            "text/plain": [
              "array([[0.92096522, 0.07903478],\n",
              "       [0.85919609, 0.14080391],\n",
              "       [0.59518384, 0.40481616],\n",
              "       [0.83404316, 0.16595684],\n",
              "       [0.38804449, 0.61195551],\n",
              "       [0.88108033, 0.11891967],\n",
              "       [0.69810095, 0.30189905],\n",
              "       [0.48315728, 0.51684272],\n",
              "       [0.85919609, 0.14080391],\n",
              "       [0.41917561, 0.58082439],\n",
              "       [0.45096376, 0.54903624],\n",
              "       [0.87413336, 0.12586664],\n",
              "       [0.88108033, 0.11891967],\n",
              "       [0.37279843, 0.62720157],\n",
              "       [0.80541456, 0.19458544],\n",
              "       [0.59518384, 0.40481616],\n",
              "       [0.73736981, 0.26263019],\n",
              "       [0.49932353, 0.50067647],\n",
              "       [0.80541456, 0.19458544],\n",
              "       [0.68429492, 0.31570508],\n",
              "       [0.8248945 , 0.1751055 ],\n",
              "       [0.8248945 , 0.1751055 ],\n",
              "       [0.62593533, 0.37406467],\n",
              "       [0.85919609, 0.14080391],\n",
              "       [0.92096522, 0.07903478],\n",
              "       [0.35780114, 0.64219886],\n",
              "       [0.85919609, 0.14080391],\n",
              "       [0.6409544 , 0.3590456 ],\n",
              "       [0.35780114, 0.64219886],\n",
              "       [0.38804449, 0.61195551],\n",
              "       [0.4670262 , 0.5329738 ],\n",
              "       [0.65570213, 0.34429787],\n",
              "       [0.85919609, 0.14080391],\n",
              "       [0.79507547, 0.20492453],\n",
              "       [0.65570213, 0.34429787],\n",
              "       [0.53162652, 0.46837348],\n",
              "       [0.92554755, 0.07445245],\n",
              "       [0.43500288, 0.56499712],\n",
              "       [0.81535316, 0.18464684],\n",
              "       [0.53162652, 0.46837348],\n",
              "       [0.92554755, 0.07445245],\n",
              "       [0.80541456, 0.19458544],\n",
              "       [0.67015584, 0.32984416],\n",
              "       [0.51549121, 0.48450879],\n",
              "       [0.89995927, 0.10004073],\n",
              "       [0.83404316, 0.16595684],\n",
              "       [0.45096376, 0.54903624],\n",
              "       [0.92554755, 0.07445245],\n",
              "       [0.43500288, 0.56499712],\n",
              "       [0.92096522, 0.07903478],\n",
              "       [0.6409544 , 0.3590456 ],\n",
              "       [0.35780114, 0.64219886],\n",
              "       [0.48315728, 0.51684272],\n",
              "       [0.37279843, 0.62720157],\n",
              "       [0.56366659, 0.43633341],\n",
              "       [0.72465126, 0.27534874],\n",
              "       [0.73736981, 0.26263019],\n",
              "       [0.59518384, 0.40481616],\n",
              "       [0.43500288, 0.56499712],\n",
              "       [0.4670262 , 0.5329738 ],\n",
              "       [0.69810095, 0.30189905],\n",
              "       [0.73736981, 0.26263019],\n",
              "       [0.54769596, 0.45230404],\n",
              "       [0.87413336, 0.12586664],\n",
              "       [0.51549121, 0.48450879],\n",
              "       [0.41917561, 0.58082439],\n",
              "       [0.6409544 , 0.3590456 ],\n",
              "       [0.6409544 , 0.3590456 ],\n",
              "       [0.72465126, 0.27534874],\n",
              "       [0.65570213, 0.34429787],\n",
              "       [0.92554755, 0.07445245],\n",
              "       [0.92554755, 0.07445245],\n",
              "       [0.69810095, 0.30189905],\n",
              "       [0.84280492, 0.15719508],\n",
              "       [0.91612642, 0.08387358],\n",
              "       [0.91102   , 0.08898   ],\n",
              "       [0.74970379, 0.25029621],\n",
              "       [0.41917561, 0.58082439],\n",
              "       [0.88108033, 0.11891967],\n",
              "       [0.83404316, 0.16595684],\n",
              "       [0.48315728, 0.51684272],\n",
              "       [0.51549121, 0.48450879],\n",
              "       [0.81535316, 0.18464684],\n",
              "       [0.45096376, 0.54903624],\n",
              "       [0.49932353, 0.50067647],\n",
              "       [0.91612642, 0.08387358],\n",
              "       [0.40351293, 0.59648707],\n",
              "       [0.48315728, 0.51684272],\n",
              "       [0.62593533, 0.37406467],\n",
              "       [0.4670262 , 0.5329738 ],\n",
              "       [0.79507547, 0.20492453],\n",
              "       [0.8668419 , 0.1331581 ],\n",
              "       [0.40351293, 0.59648707],\n",
              "       [0.69810095, 0.30189905],\n",
              "       [0.38804449, 0.61195551],\n",
              "       [0.71155772, 0.28844228],\n",
              "       [0.85919609, 0.14080391],\n",
              "       [0.71155772, 0.28844228],\n",
              "       [0.85919609, 0.14080391],\n",
              "       [0.92096522, 0.07903478],\n",
              "       [0.71155772, 0.28844228],\n",
              "       [0.54769596, 0.45230404],\n",
              "       [0.45096376, 0.54903624],\n",
              "       [0.65570213, 0.34429787],\n",
              "       [0.45096376, 0.54903624],\n",
              "       [0.37279843, 0.62720157],\n",
              "       [0.65570213, 0.34429787],\n",
              "       [0.65570213, 0.34429787],\n",
              "       [0.51549121, 0.48450879],\n",
              "       [0.53162652, 0.46837348],\n",
              "       [0.83404316, 0.16595684],\n",
              "       [0.40351293, 0.59648707],\n",
              "       [0.83404316, 0.16595684],\n",
              "       [0.71155772, 0.28844228],\n",
              "       [0.6409544 , 0.3590456 ],\n",
              "       [0.40351293, 0.59648707]])"
            ]
          },
          "metadata": {
            "tags": []
          },
          "execution_count": 22
        }
      ]
    },
    {
      "cell_type": "markdown",
      "metadata": {
        "id": "GTzf7y2yNqxs"
      },
      "source": [
        "Each row should sum to 1, which corresponds to the probability of that data being in group 0 (column 0) or group 1 (column 1)\n"
      ]
    },
    {
      "cell_type": "markdown",
      "metadata": {
        "id": "dHa_ZEWFJA5l"
      },
      "source": [
        "Let's visualize this logistic regression\n",
        "\n",
        "We can plot\n",
        "1. scatter plot of data\n",
        "2. the predicted probability of which class the data will belong too - in blue\n",
        "3. the predicted classes - in red\n",
        "4. and .50 in orange, which is basically the criterion"
      ]
    },
    {
      "cell_type": "code",
      "metadata": {
        "id": "Jm-j7h-HqEes",
        "colab": {
          "base_uri": "https://localhost:8080/",
          "height": 438
        },
        "outputId": "713946ed-432e-4813-c591-7af276b4791c"
      },
      "source": [
        "sns.scatterplot(Xtest[:,0],ytest)\n",
        "sns.lineplot(Xtest[:,0],logit_model.predict_proba(Xtest)[:,1])\n",
        "sns.lineplot(Xtest[:,0],logit_model.predict(Xtest)==1,color='r') \n",
        "sns.lineplot([15,65],[.5,.5])"
      ],
      "execution_count": null,
      "outputs": [
        {
          "output_type": "stream",
          "text": [
            "/usr/local/lib/python3.7/dist-packages/seaborn/_decorators.py:43: FutureWarning: Pass the following variables as keyword args: x, y. From version 0.12, the only valid positional argument will be `data`, and passing other arguments without an explicit keyword will result in an error or misinterpretation.\n",
            "  FutureWarning\n",
            "/usr/local/lib/python3.7/dist-packages/seaborn/_decorators.py:43: FutureWarning: Pass the following variables as keyword args: x, y. From version 0.12, the only valid positional argument will be `data`, and passing other arguments without an explicit keyword will result in an error or misinterpretation.\n",
            "  FutureWarning\n",
            "/usr/local/lib/python3.7/dist-packages/seaborn/_decorators.py:43: FutureWarning: Pass the following variables as keyword args: x, y. From version 0.12, the only valid positional argument will be `data`, and passing other arguments without an explicit keyword will result in an error or misinterpretation.\n",
            "  FutureWarning\n",
            "/usr/local/lib/python3.7/dist-packages/seaborn/_decorators.py:43: FutureWarning: Pass the following variables as keyword args: x, y. From version 0.12, the only valid positional argument will be `data`, and passing other arguments without an explicit keyword will result in an error or misinterpretation.\n",
            "  FutureWarning\n"
          ],
          "name": "stderr"
        },
        {
          "output_type": "execute_result",
          "data": {
            "text/plain": [
              "<matplotlib.axes._subplots.AxesSubplot at 0x7feb983f2c10>"
            ]
          },
          "metadata": {
            "tags": []
          },
          "execution_count": 23
        },
        {
          "output_type": "display_data",
          "data": {
            "image/png": "[encoded data removed]",
            "text/plain": [
              "<Figure size 432x288 with 1 Axes>"
            ]
          },
          "metadata": {
            "tags": [],
            "needs_background": "light"
          }
        }
      ]
    },
    {
      "cell_type": "markdown",
      "metadata": {
        "id": "W2zrRbgw1suh"
      },
      "source": [
        "Logistic regressions are handy because they are probabilistic, but they have similar assumptions to linear regressions (e.g., independence of features, no multicollinearity, assumes linearity of independent variables and log odds)"
      ]
    },
    {
      "cell_type": "markdown",
      "metadata": {
        "id": "uzPEiEawk0pN"
      },
      "source": [
        "There are a lot of different classifiers\n",
        "\n",
        "One type is a naive Bayes. This utilizes Bayes theorem, which describes the probability of an event, based on prior knowledge of conditions that might be related to the event. https://en.wikipedia.org/wiki/Bayes%27_theorem"
      ]
    },
    {
      "cell_type": "markdown",
      "metadata": {
        "id": "3v_kjM0o3Tt7"
      },
      "source": [
        "All naive Bayes classifiers assume that the value of a particular feature is independent of the value of any other feature, given the class variable. For example, a fruit may be considered to be an apple if it is red, round, and about 10 cm in diameter. A naive Bayes classifier considers each of these features to contribute independently to the probability that this fruit is an apple, regardless of any possible correlations between the color, roundness, and diameter features\n",
        "\n",
        "Bayes theory: \n",
        "\n",
        "Posterior = Likelihood * Prior / Evidence\n",
        "We can make this clear with a smoke and fire case.\n",
        "\n",
        "What is the probability that there is fire given that there is smoke?\n",
        "\n",
        "Where P(Fire) is the Prior, P(Smoke|Fire) is the Likelihood, and P(Smoke) is the evidence:\n",
        "\n",
        "P(Fire|Smoke) = P(Smoke|Fire) * P(Fire) / P(Smoke)"
      ]
    },
    {
      "cell_type": "markdown",
      "metadata": {
        "id": "aux1W9Eu8CeH"
      },
      "source": [
        "To run bayes theory, we do the same thing we did before. define the model and fit it to our training data"
      ]
    },
    {
      "cell_type": "code",
      "metadata": {
        "id": "WfdhvoushDjA",
        "colab": {
          "base_uri": "https://localhost:8080/"
        },
        "outputId": "7d654b24-6f06-4ef8-e539-f532d7a916a9"
      },
      "source": [
        "from sklearn.naive_bayes import GaussianNB\n",
        "gnb = GaussianNB()\n",
        "gnb.fit(Xtrain, ytrain)"
      ],
      "execution_count": null,
      "outputs": [
        {
          "output_type": "execute_result",
          "data": {
            "text/plain": [
              "GaussianNB(priors=None, var_smoothing=1e-09)"
            ]
          },
          "metadata": {
            "tags": []
          },
          "execution_count": 24
        }
      ]
    },
    {
      "cell_type": "markdown",
      "metadata": {
        "id": "ZYD2oGkp3r3s"
      },
      "source": [
        "And let's check the score of this fit"
      ]
    },
    {
      "cell_type": "code",
      "metadata": {
        "colab": {
          "base_uri": "https://localhost:8080/"
        },
        "id": "paXAEMclhFfc",
        "outputId": "5511985b-6b7a-4fd8-e5ef-8a10cb328819"
      },
      "source": [
        "print(gnb.score(Xtrain, ytrain))\n",
        "print(gnb.score(Xtest,ytest))"
      ],
      "execution_count": null,
      "outputs": [
        {
          "output_type": "stream",
          "text": [
            "0.7023121387283237\n",
            "0.6810344827586207\n"
          ],
          "name": "stdout"
        }
      ]
    },
    {
      "cell_type": "markdown",
      "metadata": {
        "id": "vTWyFM3v3uqn"
      },
      "source": [
        "Pretty good! Just note that naive bayes can tend to overfit and it assumes independence of the features (which may not necessarily be the case)"
      ]
    },
    {
      "cell_type": "markdown",
      "metadata": {
        "id": "f2aIIyqtpZgJ"
      },
      "source": [
        "Another classification technique is a k-nearest neighbors, which predicts which class a new test data point belongs to by identifying its k nearest neighbors’ class. We select these k nearest neighbors based on Euclidean distance"
      ]
    },
    {
      "cell_type": "code",
      "metadata": {
        "colab": {
          "base_uri": "https://localhost:8080/"
        },
        "id": "VZxD_UtSh7d9",
        "outputId": "6635f1c9-c4fd-4fd7-cadb-df5fbbf5bdd5"
      },
      "source": [
        "from sklearn.neighbors import KNeighborsClassifier\n",
        "knn = KNeighborsClassifier(algorithm = 'brute', n_jobs=-1)\n",
        "knn.fit(Xtrain, ytrain)"
      ],
      "execution_count": null,
      "outputs": [
        {
          "output_type": "execute_result",
          "data": {
            "text/plain": [
              "KNeighborsClassifier(algorithm='brute', leaf_size=30, metric='minkowski',\n",
              "                     metric_params=None, n_jobs=-1, n_neighbors=5, p=2,\n",
              "                     weights='uniform')"
            ]
          },
          "metadata": {
            "tags": []
          },
          "execution_count": 25
        }
      ]
    },
    {
      "cell_type": "code",
      "metadata": {
        "colab": {
          "base_uri": "https://localhost:8080/"
        },
        "id": "_wKn6S-sh9Yb",
        "outputId": "b3d30b5c-2b11-433a-d8f2-77a15dd1fe96"
      },
      "source": [
        "print(knn.score(Xtrain, ytrain))\n",
        "print(knn.score(Xtest,ytest))"
      ],
      "execution_count": null,
      "outputs": [
        {
          "output_type": "stream",
          "text": [
            "0.7369942196531792\n",
            "0.6379310344827587\n"
          ],
          "name": "stdout"
        }
      ]
    },
    {
      "cell_type": "markdown",
      "metadata": {
        "id": "E2kJQShg4NUV"
      },
      "source": [
        "Wow! That worked pretty well!\n",
        "\n",
        "One of the limitations of k-nn is that you need to be mindful of specifing the number of neighbors to consider. Here, the default was 5, which may be a lot for small datasets, but not enough for larger datasets"
      ]
    },
    {
      "cell_type": "markdown",
      "metadata": {
        "id": "Y6t5vWSY4a5P"
      },
      "source": [
        "We can compare the fits by looking at the scores for the training and testing set. Note that it helps to check the training and testing to see which models may be overfitting. But in the end, we are mostly concerned with the testing score"
      ]
    },
    {
      "cell_type": "code",
      "metadata": {
        "colab": {
          "base_uri": "https://localhost:8080/"
        },
        "id": "oi7-AMw7r0QC",
        "outputId": "c2e96aab-ab70-4ad7-e1b1-4748393faa10"
      },
      "source": [
        "print('tree train and test')\n",
        "print(tree_model.score(Xtrain,ytrain),tree_model.score(Xtest,ytest))\n",
        "print('------------------')\n",
        "print('full tree train and test')\n",
        "print(full_tree_model.score(Xtrain,ytrain),full_tree_model.score(Xtest,ytest))\n",
        "print('------------------')\n",
        "\n",
        "print('logistic regression')\n",
        "print( logit_model.score(Xtrain,ytrain), logit_model.score(Xtest,ytest))\n",
        "print('------------------')\n",
        "\n",
        "print('naive bayes')\n",
        "print(gnb.score(Xtrain,ytrain), gnb.score(Xtest,ytest))\n",
        "print('------------------')\n",
        "\n",
        "print('k nearest neighbor')\n",
        "print(knn.score(Xtrain,ytrain),knn.score(Xtest,ytest))"
      ],
      "execution_count": null,
      "outputs": [
        {
          "output_type": "stream",
          "text": [
            "tree train and test\n",
            "0.7023121387283237 0.6810344827586207\n",
            "------------------\n",
            "full tree train and test\n",
            "0.7456647398843931 0.646551724137931\n",
            "------------------\n",
            "logistic regression\n",
            "0.684971098265896 0.6637931034482759\n",
            "------------------\n",
            "naive bayes\n",
            "0.7023121387283237 0.6810344827586207\n",
            "------------------\n",
            "k nearest neighbor\n",
            "0.7369942196531792 0.6379310344827587\n"
          ],
          "name": "stdout"
        }
      ]
    },
    {
      "cell_type": "code",
      "metadata": {
        "colab": {
          "base_uri": "https://localhost:8080/",
          "height": 296
        },
        "id": "F6vWn-FJ4vof",
        "outputId": "618167cc-9f97-4106-8954-eff0b591958c"
      },
      "source": [
        "fpr_tree,tpr_tree,thresholds_tree = metrics.roc_curve(ytest,tree_model.predict_proba(Xtest)[:,1])\n",
        "fpr_fulltree,tpr_fulltree,thresholds_fulltree = metrics.roc_curve(ytest,full_tree_model.predict_proba(Xtest)[:,1])\n",
        "fpr_logit,tpr_logit,thresholds_logit = metrics.roc_curve(ytest,logit_model.predict_proba(Xtest)[:,1])\n",
        "fpr_gnb,tpr_gnb,thresholds_gnb = metrics.roc_curve(ytest,gnb.predict_proba(Xtest)[:,1])\n",
        "fpr_knn,tpr_knn,thresholds_knn = metrics.roc_curve(ytest,knn.predict_proba(Xtest)[:,1])\n",
        "\n",
        "plt.plot(fpr_tree,tpr_tree,label='tree')\n",
        "plt.plot(fpr_fulltree,tpr_fulltree,label='fulltree')\n",
        "plt.plot(fpr_logit,tpr_logit,label='logit')\n",
        "plt.plot(fpr_gnb,tpr_gnb,label='bayes')\n",
        "plt.plot(fpr_knn,tpr_knn,label='knn')\n",
        "\n",
        "plt.plot([0,1],[0,1],color=[0,0,0],linestyle=':')\n",
        "plt.xlabel('false positive rate')\n",
        "plt.ylabel('true positive rate')\n",
        "plt.legend()"
      ],
      "execution_count": null,
      "outputs": [
        {
          "output_type": "execute_result",
          "data": {
            "text/plain": [
              "<matplotlib.legend.Legend at 0x7feb910a3c50>"
            ]
          },
          "metadata": {
            "tags": []
          },
          "execution_count": 39
        },
        {
          "output_type": "display_data",
          "data": {
            "image/png": "[encoded data removed]",
            "text/plain": [
              "<Figure size 432x288 with 1 Axes>"
            ]
          },
          "metadata": {
            "tags": [],
            "needs_background": "light"
          }
        }
      ]
    },
    {
      "cell_type": "markdown",
      "metadata": {
        "id": "d-j2YT1Vt_Qs"
      },
      "source": [
        "Different types of data, numbers of features, amounts of data, etc etc will all influence the performance of different models."
      ]
    },
    {
      "cell_type": "markdown",
      "metadata": {
        "id": "e_OUbohEklJA"
      },
      "source": [
        "Here are some helpful resources describing more about these, and other algorithms\n",
        "\n",
        "https://blog.echen.me/2011/04/27/choosing-a-machine-learning-classifier/\n",
        "\n",
        "https://www.geeksforgeeks.org/advantages-and-disadvantages-of-different-classification-models/"
      ]
    },
    {
      "cell_type": "code",
      "metadata": {
        "id": "CopiVsCdcVoM"
      },
      "source": [
        "from sklearn.svm import SVC"
      ],
      "execution_count": null,
      "outputs": []
    },
    {
      "cell_type": "markdown",
      "metadata": {
        "id": "ZzoBxLlzQ7fn"
      },
      "source": [
        "Here, we will create an instance of the model with a linear kernal, meaning it will separate the data using just a line"
      ]
    },
    {
      "cell_type": "code",
      "metadata": {
        "id": "DBCQ5u_9M1zm",
        "colab": {
          "base_uri": "https://localhost:8080/"
        },
        "outputId": "e9a00b94-048b-4e9b-9a5d-0549218bb1b3"
      },
      "source": [
        "svc_model = SVC(kernel='linear')\n",
        "svc_model.fit(Xtrain, ytrain)"
      ],
      "execution_count": null,
      "outputs": [
        {
          "output_type": "execute_result",
          "data": {
            "text/plain": [
              "SVC(C=1.0, break_ties=False, cache_size=200, class_weight=None, coef0=0.0,\n",
              "    decision_function_shape='ovr', degree=3, gamma='scale', kernel='linear',\n",
              "    max_iter=-1, probability=False, random_state=None, shrinking=True,\n",
              "    tol=0.001, verbose=False)"
            ]
          },
          "metadata": {
            "tags": []
          },
          "execution_count": 46
        }
      ]
    },
    {
      "cell_type": "markdown",
      "metadata": {
        "id": "LV2qf24jRJLL"
      },
      "source": [
        "Let's check the accuracy of this SVC model."
      ]
    },
    {
      "cell_type": "code",
      "metadata": {
        "id": "F_fu3UJUOT_z",
        "colab": {
          "base_uri": "https://localhost:8080/"
        },
        "outputId": "466f8ed4-7b5e-4b57-a30b-bf39ef19bff4"
      },
      "source": [
        "print(svc_model.score(Xtrain,ytrain))\n",
        "print(svc_model.score(Xtest,ytest))"
      ],
      "execution_count": null,
      "outputs": [
        {
          "output_type": "stream",
          "text": [
            "0.653179190751445\n",
            "0.6551724137931034\n"
          ],
          "name": "stdout"
        }
      ]
    },
    {
      "cell_type": "markdown",
      "metadata": {
        "id": "ble2aVEoRMCz"
      },
      "source": [
        "Pretty good!\n",
        "\n",
        "We can check the predictions. Again, it returns a 1 or 0 on whether it thinks the data will belong to group 1 or 0"
      ]
    },
    {
      "cell_type": "code",
      "metadata": {
        "id": "biA7MtmHLKvf",
        "colab": {
          "base_uri": "https://localhost:8080/"
        },
        "outputId": "e7de4065-d90f-42ca-b784-90f807121636"
      },
      "source": [
        "svc_model.predict(Xtest)"
      ],
      "execution_count": null,
      "outputs": [
        {
          "output_type": "execute_result",
          "data": {
            "text/plain": [
              "array([0, 0, 0, 0, 0, 0, 0, 0, 0, 0, 0, 0, 0, 0, 0, 0, 0, 0, 0, 0, 0, 0,\n",
              "       0, 0, 0, 0, 0, 0, 0, 0, 0, 0, 0, 0, 0, 0, 0, 0, 0, 0, 0, 0, 0, 0,\n",
              "       0, 0, 0, 0, 0, 0, 0, 0, 0, 0, 0, 0, 0, 0, 0, 0, 0, 0, 0, 0, 0, 0,\n",
              "       0, 0, 0, 0, 0, 0, 0, 0, 0, 0, 0, 0, 0, 0, 0, 0, 0, 0, 0, 0, 0, 0,\n",
              "       0, 0, 0, 0, 0, 0, 0, 0, 0, 0, 0, 0, 0, 0, 0, 0, 0, 0, 0, 0, 0, 0,\n",
              "       0, 0, 0, 0, 0, 0])"
            ]
          },
          "metadata": {
            "tags": []
          },
          "execution_count": 73
        }
      ]
    },
    {
      "cell_type": "markdown",
      "metadata": {
        "id": "2vHh-VPTwgmr"
      },
      "source": [
        "We can view our support vectors, which are the datapoints on the margin"
      ]
    },
    {
      "cell_type": "code",
      "metadata": {
        "id": "FoJKuMBjwNcP"
      },
      "source": [
        "svc_model.support_vectors_"
      ],
      "execution_count": null,
      "outputs": []
    },
    {
      "cell_type": "markdown",
      "metadata": {
        "id": "xzzevDYq0vsq"
      },
      "source": [
        "And plot them onto our data. This gives us a quick look into how ou data was separate"
      ]
    },
    {
      "cell_type": "code",
      "metadata": {
        "id": "ahTht5LUp2LI"
      },
      "source": [
        "Xtrain"
      ],
      "execution_count": null,
      "outputs": []
    },
    {
      "cell_type": "code",
      "metadata": {
        "id": "c5c4shgRwT6w",
        "colab": {
          "base_uri": "https://localhost:8080/",
          "height": 483
        },
        "outputId": "1030485d-ac73-48d9-800d-2c86d8ec3f66"
      },
      "source": [
        "sns.scatterplot(Xtrain[:,0], Xtrain[:,0], hue=ytrain)\n",
        "sns.scatterplot(svc_model.support_vectors_[:,0],svc_model.support_vectors_[:,1],color='k')"
      ],
      "execution_count": null,
      "outputs": [
        {
          "output_type": "stream",
          "text": [
            "/usr/local/lib/python3.7/dist-packages/seaborn/_decorators.py:43: FutureWarning: Pass the following variables as keyword args: x, y. From version 0.12, the only valid positional argument will be `data`, and passing other arguments without an explicit keyword will result in an error or misinterpretation.\n",
            "  FutureWarning\n"
          ],
          "name": "stderr"
        },
        {
          "output_type": "error",
          "ename": "IndexError",
          "evalue": "ignored",
          "traceback": [
            "\u001b[0;31m---------------------------------------------------------------------------\u001b[0m",
            "\u001b[0;31mIndexError\u001b[0m                                Traceback (most recent call last)",
            "\u001b[0;32m<ipython-input-56-99f14a9f3bb8>\u001b[0m in \u001b[0;36m<module>\u001b[0;34m()\u001b[0m\n\u001b[1;32m      1\u001b[0m \u001b[0msns\u001b[0m\u001b[0;34m.\u001b[0m\u001b[0mscatterplot\u001b[0m\u001b[0;34m(\u001b[0m\u001b[0mXtrain\u001b[0m\u001b[0;34m[\u001b[0m\u001b[0;34m:\u001b[0m\u001b[0;34m,\u001b[0m\u001b[0;36m0\u001b[0m\u001b[0;34m]\u001b[0m\u001b[0;34m,\u001b[0m \u001b[0mXtrain\u001b[0m\u001b[0;34m[\u001b[0m\u001b[0;34m:\u001b[0m\u001b[0;34m,\u001b[0m\u001b[0;36m0\u001b[0m\u001b[0;34m]\u001b[0m\u001b[0;34m,\u001b[0m \u001b[0mhue\u001b[0m\u001b[0;34m=\u001b[0m\u001b[0mytrain\u001b[0m\u001b[0;34m)\u001b[0m\u001b[0;34m\u001b[0m\u001b[0;34m\u001b[0m\u001b[0m\n\u001b[0;32m----> 2\u001b[0;31m \u001b[0msns\u001b[0m\u001b[0;34m.\u001b[0m\u001b[0mscatterplot\u001b[0m\u001b[0;34m(\u001b[0m\u001b[0msvc_model\u001b[0m\u001b[0;34m.\u001b[0m\u001b[0msupport_vectors_\u001b[0m\u001b[0;34m[\u001b[0m\u001b[0;34m:\u001b[0m\u001b[0;34m,\u001b[0m\u001b[0;36m0\u001b[0m\u001b[0;34m]\u001b[0m\u001b[0;34m,\u001b[0m\u001b[0msvc_model\u001b[0m\u001b[0;34m.\u001b[0m\u001b[0msupport_vectors_\u001b[0m\u001b[0;34m[\u001b[0m\u001b[0;34m:\u001b[0m\u001b[0;34m,\u001b[0m\u001b[0;36m1\u001b[0m\u001b[0;34m]\u001b[0m\u001b[0;34m,\u001b[0m\u001b[0mcolor\u001b[0m\u001b[0;34m=\u001b[0m\u001b[0;34m'k'\u001b[0m\u001b[0;34m)\u001b[0m\u001b[0;34m\u001b[0m\u001b[0;34m\u001b[0m\u001b[0m\n\u001b[0m",
            "\u001b[0;31mIndexError\u001b[0m: index 1 is out of bounds for axis 1 with size 1"
          ]
        },
        {
          "output_type": "display_data",
          "data": {
            "image/png": "[encoded data removed]",
            "text/plain": [
              "<Figure size 432x288 with 1 Axes>"
            ]
          },
          "metadata": {
            "tags": [],
            "needs_background": "light"
          }
        }
      ]
    },
    {
      "cell_type": "markdown",
      "metadata": {
        "id": "YhrCZX0o0084"
      },
      "source": [
        "Alterantively, we can plot our margin using the coef_ and intercept_ of the model.\n",
        "\n",
        "Note: this is specific to linear SVC"
      ]
    },
    {
      "cell_type": "code",
      "metadata": {
        "id": "FEyrseu_LZ3v",
        "colab": {
          "base_uri": "https://localhost:8080/",
          "height": 34
        },
        "outputId": "f32cc9e0-a941-403b-8e21-b3577df898ed"
      },
      "source": [
        "svc_model.coef_"
      ],
      "execution_count": null,
      "outputs": [
        {
          "output_type": "execute_result",
          "data": {
            "text/plain": [
              "array([[0.03930158, 0.03649028]])"
            ]
          },
          "metadata": {
            "tags": []
          },
          "execution_count": 66
        }
      ]
    },
    {
      "cell_type": "code",
      "metadata": {
        "id": "psGFUyKZLsTw",
        "colab": {
          "base_uri": "https://localhost:8080/",
          "height": 34
        },
        "outputId": "14fd4177-86ff-44b9-b582-22fdc56ca12e"
      },
      "source": [
        "svc_model.intercept_"
      ],
      "execution_count": null,
      "outputs": [
        {
          "output_type": "execute_result",
          "data": {
            "text/plain": [
              "array([-6.07851401])"
            ]
          },
          "metadata": {
            "tags": []
          },
          "execution_count": 67
        }
      ]
    },
    {
      "cell_type": "markdown",
      "metadata": {
        "id": "PgvplfgLS2Xr"
      },
      "source": [
        "To use the coef_ and intercept, we need to do a few things. First, let's pull out the coefficents, which are basically weights"
      ]
    },
    {
      "cell_type": "code",
      "metadata": {
        "id": "H_aRmmrfxzKM",
        "colab": {
          "base_uri": "https://localhost:8080/",
          "height": 34
        },
        "outputId": "af92c526-39ce-4e8f-b206-ad8a71bec798"
      },
      "source": [
        "w = svc_model.coef_[0]\n",
        "print(w)"
      ],
      "execution_count": null,
      "outputs": [
        {
          "output_type": "stream",
          "text": [
            "[0.03930158 0.03649028]\n"
          ],
          "name": "stdout"
        }
      ]
    },
    {
      "cell_type": "markdown",
      "metadata": {
        "id": "aL6DzWVo1EGr"
      },
      "source": [
        "Dividing them basically gets us a slope"
      ]
    },
    {
      "cell_type": "code",
      "metadata": {
        "id": "afqwwmu7x0sF",
        "colab": {
          "base_uri": "https://localhost:8080/",
          "height": 34
        },
        "outputId": "84cf5c88-9da7-45ee-c40b-7b73470dac55"
      },
      "source": [
        "slope = -w[0] / w[1] \n",
        "print(slope)"
      ],
      "execution_count": null,
      "outputs": [
        {
          "output_type": "stream",
          "text": [
            "-1.077042303084694\n"
          ],
          "name": "stdout"
        }
      ]
    },
    {
      "cell_type": "markdown",
      "metadata": {
        "id": "6GWcaFdX1GrJ"
      },
      "source": [
        "Our intercept needs to be adjusted by the weight of the y-axis"
      ]
    },
    {
      "cell_type": "code",
      "metadata": {
        "id": "p3YmJ6PqyUPL",
        "colab": {
          "base_uri": "https://localhost:8080/",
          "height": 34
        },
        "outputId": "02081ee8-8a09-43d5-934b-c8b929b91e42"
      },
      "source": [
        "intercept = -svc_model.intercept_[0]/w[1]\n",
        "print(intercept)"
      ],
      "execution_count": null,
      "outputs": [
        {
          "output_type": "stream",
          "text": [
            "166.57897509328433\n"
          ],
          "name": "stdout"
        }
      ]
    },
    {
      "cell_type": "markdown",
      "metadata": {
        "id": "Ik3-7c2X1LwO"
      },
      "source": [
        "Then, using Xtrain as the X in our y = m*x + b equation, we can derive our line"
      ]
    },
    {
      "cell_type": "code",
      "metadata": {
        "id": "rTSJuZOqzEd-"
      },
      "source": [
        "yy = slope * Xtrain['displacement'] + intercept"
      ],
      "execution_count": null,
      "outputs": []
    },
    {
      "cell_type": "markdown",
      "metadata": {
        "id": "D67-AFYf1QnY"
      },
      "source": [
        "Let's put this all on the plot"
      ]
    },
    {
      "cell_type": "code",
      "metadata": {
        "id": "4Evr0-j7NcTP",
        "colab": {
          "base_uri": "https://localhost:8080/",
          "height": 300
        },
        "outputId": "0911eee4-05eb-4dbd-f6bd-fd8e588ac2e5"
      },
      "source": [
        "sns.scatterplot(Xtrain['displacement'], Xtrain['mpg'], hue=ytrain)\n",
        "plt.plot(Xtrain['displacement'], yy)\n",
        "sns.scatterplot(svc_model.support_vectors_[:,0],svc_model.support_vectors_[:,1],color='k')\n",
        "plt.ylim([0,50])"
      ],
      "execution_count": null,
      "outputs": [
        {
          "output_type": "execute_result",
          "data": {
            "text/plain": [
              "(0.0, 50.0)"
            ]
          },
          "metadata": {
            "tags": []
          },
          "execution_count": 75
        },
        {
          "output_type": "display_data",
          "data": {
            "image/png": "[encoded data removed]",
            "text/plain": [
              "<Figure size 432x288 with 1 Axes>"
            ]
          },
          "metadata": {
            "tags": [],
            "needs_background": "light"
          }
        }
      ]
    },
    {
      "cell_type": "markdown",
      "metadata": {
        "id": "R3379k_o1SMj"
      },
      "source": [
        "Looks good!\n",
        "\n",
        "We can do this with the testing data too to get a feel for how well it separated it"
      ]
    },
    {
      "cell_type": "code",
      "metadata": {
        "id": "5QeW_fGLz0Rf",
        "colab": {
          "base_uri": "https://localhost:8080/",
          "height": 300
        },
        "outputId": "25ac3acd-1964-49fb-9106-44b700035ca9"
      },
      "source": [
        "yy = slope * Xtest['displacement'] + intercept\n",
        "\n",
        "sns.scatterplot(Xtest['displacement'], Xtest['mpg'], hue=ytest)\n",
        "plt.plot(Xtest['displacement'], yy)\n",
        "plt.ylim([0,50])"
      ],
      "execution_count": null,
      "outputs": [
        {
          "output_type": "execute_result",
          "data": {
            "text/plain": [
              "(0.0, 50.0)"
            ]
          },
          "metadata": {
            "tags": []
          },
          "execution_count": 77
        },
        {
          "output_type": "display_data",
          "data": {
            "image/png": "[encoded data removed]",
            "text/plain": [
              "<Figure size 432x288 with 1 Axes>"
            ]
          },
          "metadata": {
            "tags": [],
            "needs_background": "light"
          }
        }
      ]
    },
    {
      "cell_type": "markdown",
      "metadata": {
        "id": "QlDH8j8b2Uhn"
      },
      "source": [
        "Here is another method to generate the margin. Its a bit more complex"
      ]
    },
    {
      "cell_type": "code",
      "metadata": {
        "id": "dTwWMIKmz-9u",
        "colab": {
          "base_uri": "https://localhost:8080/",
          "height": 300
        },
        "outputId": "b47e6750-1fed-49a1-f3ce-ef44a872f6c8"
      },
      "source": [
        "sns.scatterplot(Xtrain['displacement'], Xtrain['mpg'],hue=ytrain)\n",
        "\n",
        "# create grid to evaluate model\n",
        "xx = np.linspace(0, 500, 30)  # works best if you know the xlim[0] and xlim[1]\n",
        "yy = np.linspace(0,60, 30)  # works best if you know the ylim[0] and ylim[1]\n",
        "YY, XX = np.meshgrid(yy, xx)\n",
        "xy = np.vstack([XX.ravel(), YY.ravel()]).T\n",
        "Z = svc_model.decision_function(xy).reshape(XX.shape)\n",
        "\n",
        "# plot decision boundary and margins\n",
        "plt.contour(XX, YY, Z, colors='k', levels=[-1, 0, 1], alpha=0.5,\n",
        "           linestyles=['--', '-', '--'])"
      ],
      "execution_count": null,
      "outputs": [
        {
          "output_type": "execute_result",
          "data": {
            "text/plain": [
              "<matplotlib.contour.QuadContourSet at 0x7f06c72cb2e8>"
            ]
          },
          "metadata": {
            "tags": []
          },
          "execution_count": 79
        },
        {
          "output_type": "display_data",
          "data": {
            "image/png": "[encoded data removed]",
            "text/plain": [
              "<Figure size 432x288 with 1 Axes>"
            ]
          },
          "metadata": {
            "tags": [],
            "needs_background": "light"
          }
        }
      ]
    },
    {
      "cell_type": "markdown",
      "metadata": {
        "id": "huIdPWQv2dEw"
      },
      "source": [
        "That's pretty much most of what I wanted to cover of binary classification\n",
        "\n",
        "There are other types of classification techniques (Random forest, perceptron, k-nearest neighbors) and we could certainly spend a lot more time talking about the naunces of Decision Trees and Support Vector machines.\n",
        "\n",
        "For now, I think this should give you a basic idea of how to conduct classification, what is happening, and how to evaluate the classification\n",
        "\n",
        "Next, we will cover what cross-validation is because it concerns how we conduct our machine learning"
      ]
    }
  ]
}