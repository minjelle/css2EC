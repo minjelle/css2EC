{
  "nbformat": 4,
  "nbformat_minor": 0,
  "metadata": {
    "colab": {
      "name": "Discussion Board 3 - Minji Kim.ipynb",
      "provenance": []
    },
    "kernelspec": {
      "name": "python3",
      "display_name": "Python 3"
    },
    "language_info": {
      "name": "python"
    }
  },
  "cells": [
    {
      "cell_type": "markdown",
      "metadata": {
        "id": "AvIS0tQRcob0"
      },
      "source": [
        "Block 1"
      ]
    },
    {
      "cell_type": "code",
      "metadata": {
        "id": "XcHCQFG4cReY"
      },
      "source": [
        "#importing the relevant libraries\n",
        "import numpy as np\n",
        "import pandas as pd\n",
        "import matplotlib.pyplot as plt\n",
        "import seaborn as sns\n",
        "from bs4 import BeautifulSoup\n",
        "import requests"
      ],
      "execution_count": null,
      "outputs": []
    },
    {
      "cell_type": "markdown",
      "metadata": {
        "id": "Ot63C_j9crpT"
      },
      "source": [
        "Block 2"
      ]
    },
    {
      "cell_type": "code",
      "metadata": {
        "colab": {
          "base_uri": "https://localhost:8080/",
          "height": 761
        },
        "id": "uf17a9tZc76x",
        "outputId": "e326f6fb-1128-4b57-db8e-8a512ff584fb"
      },
      "source": [
        "webdata = pd.read_html('https://crudata.uea.ac.uk/cru/data/temperature/')\n",
        "\n",
        "webdata = webdata[1]\n",
        "webdata"
      ],
      "execution_count": null,
      "outputs": [
        {
          "output_type": "execute_result",
          "data": {
            "text/html": [
              "<div>\n",
              "<style scoped>\n",
              "    .dataframe tbody tr th:only-of-type {\n",
              "        vertical-align: middle;\n",
              "    }\n",
              "\n",
              "    .dataframe tbody tr th {\n",
              "        vertical-align: top;\n",
              "    }\n",
              "\n",
              "    .dataframe thead th {\n",
              "        text-align: right;\n",
              "    }\n",
              "</style>\n",
              "<table border=\"1\" class=\"dataframe\">\n",
              "  <thead>\n",
              "    <tr style=\"text-align: right;\">\n",
              "      <th></th>\n",
              "      <th>Dataset</th>\n",
              "      <th>End monthUpdated</th>\n",
              "      <th>Grid</th>\n",
              "      <th>Hemispheric &amp; global meansCRU format text files</th>\n",
              "      <th>Station data</th>\n",
              "      <th>CEDA or Met OfficeFor more data files including uncertainties</th>\n",
              "    </tr>\n",
              "  </thead>\n",
              "  <tbody>\n",
              "    <tr>\n",
              "      <th>0</th>\n",
              "      <td>HadCRUT5 Analysis</td>\n",
              "      <td>2021-012021-04-22</td>\n",
              "      <td>netCDF (21MB)</td>\n",
              "      <td>NHSHGL</td>\n",
              "      <td>Same as CRUTEM5</td>\n",
              "      <td>Met Office: HadCRUT5CEDA (not updated): HadCRUT5</td>\n",
              "    </tr>\n",
              "    <tr>\n",
              "      <th>1</th>\n",
              "      <td>Combined land [CRUTEM5] and marine [HadSST4] t...</td>\n",
              "      <td>Combined land [CRUTEM5] and marine [HadSST4] t...</td>\n",
              "      <td>Combined land [CRUTEM5] and marine [HadSST4] t...</td>\n",
              "      <td>NHSHGL</td>\n",
              "      <td>Same as CRUTEM5</td>\n",
              "      <td>Met Office: HadCRUT5CEDA (not updated): HadCRUT5</td>\n",
              "    </tr>\n",
              "    <tr>\n",
              "      <th>2</th>\n",
              "      <td>HadCRUT5 Non-Infilled</td>\n",
              "      <td>2021-012021-04-22</td>\n",
              "      <td>netCDF (21MB)</td>\n",
              "      <td>NHSHGL</td>\n",
              "      <td>Same as CRUTEM5</td>\n",
              "      <td>Met Office: HadCRUT5CEDA (not updated): HadCRUT5</td>\n",
              "    </tr>\n",
              "    <tr>\n",
              "      <th>3</th>\n",
              "      <td>Combined land [CRUTEM5] and marine [HadSST4] t...</td>\n",
              "      <td>Combined land [CRUTEM5] and marine [HadSST4] t...</td>\n",
              "      <td>Combined land [CRUTEM5] and marine [HadSST4] t...</td>\n",
              "      <td>NHSHGL</td>\n",
              "      <td>Same as CRUTEM5</td>\n",
              "      <td>Met Office: HadCRUT5CEDA (not updated): HadCRUT5</td>\n",
              "    </tr>\n",
              "    <tr>\n",
              "      <th>4</th>\n",
              "      <td>CRUTEM5</td>\n",
              "      <td>2021-012021-04-22</td>\n",
              "      <td>netCDF (21MB)</td>\n",
              "      <td>NHSHGL</td>\n",
              "      <td>Text stations (gzip)CRU formatStation normalsS...</td>\n",
              "      <td>Met Office: CRUTEM5CEDA (not updated): CRUTEM5</td>\n",
              "    </tr>\n",
              "    <tr>\n",
              "      <th>5</th>\n",
              "      <td>Land air temperature anomalies on a 5° by 5° g...</td>\n",
              "      <td>Land air temperature anomalies on a 5° by 5° g...</td>\n",
              "      <td>Land air temperature anomalies on a 5° by 5° g...</td>\n",
              "      <td>NHSHGL</td>\n",
              "      <td>Text stations (gzip)CRU formatStation normalsS...</td>\n",
              "      <td>Met Office: CRUTEM5CEDA (not updated): CRUTEM5</td>\n",
              "    </tr>\n",
              "    <tr>\n",
              "      <th>6</th>\n",
              "      <td>CRUTEM5alt</td>\n",
              "      <td>2021-012021-04-22</td>\n",
              "      <td>netCDF (21MB)</td>\n",
              "      <td>NHSHGL</td>\n",
              "      <td>Same as CRUTEM5</td>\n",
              "      <td>Met Office: CRUTEM5</td>\n",
              "    </tr>\n",
              "    <tr>\n",
              "      <th>7</th>\n",
              "      <td>Land air temperature anomalies on a 5° by 5° g...</td>\n",
              "      <td>Land air temperature anomalies on a 5° by 5° g...</td>\n",
              "      <td>Land air temperature anomalies on a 5° by 5° g...</td>\n",
              "      <td>NHSHGL</td>\n",
              "      <td>Same as CRUTEM5</td>\n",
              "      <td>Met Office: CRUTEM5</td>\n",
              "    </tr>\n",
              "    <tr>\n",
              "      <th>8</th>\n",
              "      <td>HadSST4</td>\n",
              "      <td>2021-022021-04-22</td>\n",
              "      <td>netCDF (21MB)</td>\n",
              "      <td>NHSHGL</td>\n",
              "      <td>Not applicable</td>\n",
              "      <td>Met Office: HadSST4</td>\n",
              "    </tr>\n",
              "    <tr>\n",
              "      <th>9</th>\n",
              "      <td>Sea surface temperature anomalies on a 5° by 5...</td>\n",
              "      <td>Sea surface temperature anomalies on a 5° by 5...</td>\n",
              "      <td>Sea surface temperature anomalies on a 5° by 5...</td>\n",
              "      <td>NHSHGL</td>\n",
              "      <td>Not applicable</td>\n",
              "      <td>Met Office: HadSST4</td>\n",
              "    </tr>\n",
              "    <tr>\n",
              "      <th>10</th>\n",
              "      <td>Absolute1961-1990 mean</td>\n",
              "      <td>Static</td>\n",
              "      <td>netCDF (&lt;1MB)</td>\n",
              "      <td>NHSHGL</td>\n",
              "      <td>Not applicable</td>\n",
              "      <td>Not applicable</td>\n",
              "    </tr>\n",
              "    <tr>\n",
              "      <th>11</th>\n",
              "      <td>Absolute temperatures for the base period 1961...</td>\n",
              "      <td>Absolute temperatures for the base period 1961...</td>\n",
              "      <td>Absolute temperatures for the base period 1961...</td>\n",
              "      <td>NHSHGL</td>\n",
              "      <td>Not applicable</td>\n",
              "      <td>Not applicable</td>\n",
              "    </tr>\n",
              "  </tbody>\n",
              "</table>\n",
              "</div>"
            ],
            "text/plain": [
              "                                              Dataset  ... CEDA or Met OfficeFor more data files including uncertainties\n",
              "0                                   HadCRUT5 Analysis  ...   Met Office: HadCRUT5CEDA (not updated): HadCRUT5           \n",
              "1   Combined land [CRUTEM5] and marine [HadSST4] t...  ...   Met Office: HadCRUT5CEDA (not updated): HadCRUT5           \n",
              "2                               HadCRUT5 Non-Infilled  ...   Met Office: HadCRUT5CEDA (not updated): HadCRUT5           \n",
              "3   Combined land [CRUTEM5] and marine [HadSST4] t...  ...   Met Office: HadCRUT5CEDA (not updated): HadCRUT5           \n",
              "4                                             CRUTEM5  ...     Met Office: CRUTEM5CEDA (not updated): CRUTEM5           \n",
              "5   Land air temperature anomalies on a 5° by 5° g...  ...     Met Office: CRUTEM5CEDA (not updated): CRUTEM5           \n",
              "6                                          CRUTEM5alt  ...                                Met Office: CRUTEM5           \n",
              "7   Land air temperature anomalies on a 5° by 5° g...  ...                                Met Office: CRUTEM5           \n",
              "8                                             HadSST4  ...                                Met Office: HadSST4           \n",
              "9   Sea surface temperature anomalies on a 5° by 5...  ...                                Met Office: HadSST4           \n",
              "10                             Absolute1961-1990 mean  ...                                     Not applicable           \n",
              "11  Absolute temperatures for the base period 1961...  ...                                     Not applicable           \n",
              "\n",
              "[12 rows x 6 columns]"
            ]
          },
          "metadata": {
            "tags": []
          },
          "execution_count": 25
        }
      ]
    },
    {
      "cell_type": "code",
      "metadata": {
        "id": "Ci7iJ6GNgMoZ"
      },
      "source": [
        ""
      ],
      "execution_count": null,
      "outputs": []
    }
  ]
}